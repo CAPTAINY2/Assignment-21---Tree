{
  "nbformat": 4,
  "nbformat_minor": 0,
  "metadata": {
    "colab": {
      "provenance": [],
      "authorship_tag": "ABX9TyPEAH2ffQigA7cFC7w0JRUb",
      "include_colab_link": true
    },
    "kernelspec": {
      "name": "python3",
      "display_name": "Python 3"
    },
    "language_info": {
      "name": "python"
    }
  },
  "cells": [
    {
      "cell_type": "markdown",
      "metadata": {
        "id": "view-in-github",
        "colab_type": "text"
      },
      "source": [
        "<a href=\"https://colab.research.google.com/github/CAPTAINY2/Assignment-21---Tree/blob/main/Untitled4.ipynb\" target=\"_parent\"><img src=\"https://colab.research.google.com/assets/colab-badge.svg\" alt=\"Open In Colab\"/></a>"
      ]
    },
    {
      "cell_type": "markdown",
      "source": [
        "### QUESTION-1"
      ],
      "metadata": {
        "id": "Nzg1443UOudZ"
      }
    },
    {
      "cell_type": "code",
      "source": [
        "\n",
        "\n",
        "class TreeNode:\n",
        "    def __init__(self, value):\n",
        "        self.value = value\n",
        "        self.left = None\n",
        "        self.right = None\n",
        "\n",
        "def inorder_traversal(root, values):\n",
        "    if root is None:\n",
        "        return\n",
        "    inorder_traversal(root.left, values)\n",
        "    values.append(root.value)\n",
        "    inorder_traversal(root.right, values)\n",
        "\n",
        "def create_bst(values):\n",
        "    if not values:\n",
        "        return None\n",
        "    mid = len(values) // 2\n",
        "    root = TreeNode(values[mid])\n",
        "    root.left = create_bst(values[:mid])\n",
        "    root.right = create_bst(values[mid+1:])\n",
        "    return root\n",
        "\n",
        "def convert_binary_tree_to_bst(root):\n",
        "    if root is None:\n",
        "        return None\n",
        "    values = []\n",
        "    inorder_traversal(root, values)\n",
        "    return create_bst(values)\n",
        "\n",
        "root = TreeNode(10)\n",
        "root.left = TreeNode(2)\n",
        "root.right = TreeNode(7)\n",
        "root.left.left = TreeNode(8)\n",
        "root.left.right = TreeNode(4)\n",
        "\n",
        "bst_root = convert_binary_tree_to_bst(root)\n",
        "\n",
        "def inorder_print(root):\n",
        "    if root is None:\n",
        "        return\n",
        "    inorder_print(root.left)\n",
        "    print(root.value)\n",
        "    inorder_print(root.right)\n",
        "\n",
        "inorder_print(bst_root)\n"
      ],
      "metadata": {
        "colab": {
          "base_uri": "https://localhost:8080/"
        },
        "id": "cj3CAxRC9GSl",
        "outputId": "c9840d3c-858c-4766-abaa-60f8f4526524"
      },
      "execution_count": 6,
      "outputs": [
        {
          "output_type": "stream",
          "name": "stdout",
          "text": [
            "8\n",
            "2\n",
            "4\n",
            "10\n",
            "7\n"
          ]
        }
      ]
    },
    {
      "cell_type": "markdown",
      "source": [
        "### QUESTION-2"
      ],
      "metadata": {
        "id": "8BamsGpaOz79"
      }
    },
    {
      "cell_type": "code",
      "source": [
        "class TreeNode:\n",
        "    def __init__(self, value):\n",
        "        self.value = value\n",
        "        self.left = None\n",
        "        self.right = None\n",
        "\n",
        "def distance(root, node1, node2):\n",
        "    ancestor = find_ancestor(root, node1, node2)\n",
        "\n",
        "    d1 = distance_node(ancestor, node1, 0)\n",
        "    d2 = distance_node(ancestor, node2, 0)\n",
        "\n",
        "    distance = d1 + d2\n",
        "\n",
        "    return distance\n",
        "\n",
        "def find_ancestor(root, node1, node2):\n",
        "    if root is None:\n",
        "        return None\n",
        "\n",
        "    if root.value > node1 and root.value > node2:\n",
        "        return find_ancestor(root.left, node1, node2)\n",
        "    elif root.value < node1 and root.value < node2:\n",
        "        return find_ancestor(root.right, node1, node2)\n",
        "    else:\n",
        "        return root\n",
        "\n",
        "def distance_node(root, target, distance):\n",
        "    if root is None:\n",
        "        return None\n",
        "\n",
        "    if root.value == target:\n",
        "        return distance\n",
        "\n",
        "    if root.value > target:\n",
        "        return distance_node(root.left, target, distance + 1)\n",
        "    else:\n",
        "        return distance_node(root.right, target, distance + 1)\n",
        "\n",
        "root = TreeNode(8)\n",
        "root.left = TreeNode(3)\n",
        "root.right = TreeNode(10)\n",
        "root.left.left = TreeNode(1)\n",
        "root.left.right = TreeNode(6)\n",
        "root.left.right.left = TreeNode(4)\n",
        "root.left.right.right = TreeNode(7)\n",
        "root.right.right = TreeNode(14)\n",
        "root.right.right.left = TreeNode(13)\n",
        "\n",
        "node1 = 6\n",
        "node2 = 14\n",
        "\n",
        "print(\"The distance between the two keys 1:\", distance(root, node1, node2))\n",
        "\n",
        "\n",
        "root = TreeNode(8)\n",
        "root.left = TreeNode(3)\n",
        "root.right = TreeNode(10)\n",
        "root.left.left = TreeNode(1)\n",
        "root.left.right = TreeNode(6)\n",
        "root.left.right.left = TreeNode(4)\n",
        "root.left.right.right = TreeNode(7)\n",
        "root.right.right = TreeNode(14)\n",
        "root.right.right.left = TreeNode(13)\n",
        "\n",
        "node1 = 3\n",
        "node2 = 4\n",
        "\n",
        "print(\"The distance between the two keys 2:\", distance(root, node1, node2))\n"
      ],
      "metadata": {
        "colab": {
          "base_uri": "https://localhost:8080/"
        },
        "id": "B-SIejpA--EV",
        "outputId": "148e6b8a-4c96-42ad-ff17-15b58bf9a98a"
      },
      "execution_count": 9,
      "outputs": [
        {
          "output_type": "stream",
          "name": "stdout",
          "text": [
            "The distance between the two keys 1: 4\n",
            "The distance between the two keys 2: 2\n"
          ]
        }
      ]
    },
    {
      "cell_type": "markdown",
      "source": [
        "###  QUESTION-3"
      ],
      "metadata": {
        "id": "2tU1LYqsO2Ci"
      }
    },
    {
      "cell_type": "code",
      "source": [
        "class TreeNode:\n",
        "    def __init__(self, value):\n",
        "        self.value = value\n",
        "        self.left = None\n",
        "        self.right = None\n",
        "\n",
        "class Node:\n",
        "    def __init__(self, value):\n",
        "        self.value = value\n",
        "        self.prev = None\n",
        "        self.next = None\n",
        "\n",
        "def tree(root):\n",
        "    global prev\n",
        "    prev = None\n",
        "    head = convert(root)\n",
        "    return head\n",
        "\n",
        "def convert(root):\n",
        "    global prev\n",
        "    if root is None:\n",
        "        return None\n",
        "\n",
        "    head = convert(root.left)\n",
        "    node = Node(root.value)\n",
        "\n",
        "    if prev is not None:\n",
        "        prev.next = node\n",
        "    node.prev = prev\n",
        "    prev = node\n",
        "\n",
        "    convert(root.right)\n",
        "\n",
        "    if head is None:\n",
        "        head = node\n",
        "\n",
        "    return head\n",
        "\n",
        "def print_link(head):\n",
        "    curr = head\n",
        "    while curr is not None:\n",
        "        print(curr.value, end=\" \")\n",
        "        curr = curr.next\n",
        "    print()\n",
        "\n",
        "root = TreeNode(10)\n",
        "root.left = TreeNode(5)\n",
        "root.right = TreeNode(20)\n",
        "root.right.left = TreeNode(30)\n",
        "root.right.right = TreeNode(35)\n",
        "print(\"Output : \")\n",
        "print(print_link(tree(root)))\n"
      ],
      "metadata": {
        "colab": {
          "base_uri": "https://localhost:8080/"
        },
        "id": "8wlR8Q-oDN3c",
        "outputId": "81fefd07-b149-43cb-add4-dd4021172f8d"
      },
      "execution_count": 17,
      "outputs": [
        {
          "output_type": "stream",
          "name": "stdout",
          "text": [
            "Output : \n",
            "5 10 30 20 35 \n",
            "None\n"
          ]
        }
      ]
    },
    {
      "cell_type": "markdown",
      "source": [
        "### QUESTION-4"
      ],
      "metadata": {
        "id": "ghhmpK8TO79M"
      }
    },
    {
      "cell_type": "code",
      "source": [
        "class TreeNode:\n",
        "    def __init__(self, value):\n",
        "        self.value = value\n",
        "        self.left = None\n",
        "        self.right = None\n",
        "        self.next = None\n",
        "\n",
        "def nodes_same(root):\n",
        "    if root is None:\n",
        "        return None\n",
        "\n",
        "    queue = []\n",
        "    queue.append(root)\n",
        "    queue.append(None)\n",
        "\n",
        "    while len(queue) > 1:\n",
        "        node = queue.pop(0)\n",
        "\n",
        "        if node is None:\n",
        "            queue.append(None)\n",
        "        else:\n",
        "            node.next = queue[0]\n",
        "\n",
        "            if node.left is not None:\n",
        "                queue.append(node.left)\n",
        "            if node.right is not None:\n",
        "                queue.append(node.right)\n",
        "\n",
        "    return root\n",
        "\n",
        "def connect_nodes(root):\n",
        "    current = root\n",
        "    while current is not None:\n",
        "        node = current\n",
        "        while node is not None:\n",
        "            if node.next is not None:\n",
        "                print(node.value, end=\" → \")\n",
        "            else:\n",
        "                print(node.value, end=\" → -1\\n\")\n",
        "            node = node.next\n",
        "        current = current.left\n",
        "\n",
        "root = TreeNode(1)\n",
        "root.left = TreeNode(2)\n",
        "root.right = TreeNode(3)\n",
        "root.left.left = TreeNode(4)\n",
        "root.left.right = TreeNode(5)\n",
        "root.right.left = TreeNode(6)\n",
        "root.right.right = TreeNode(7)\n",
        "\n",
        "nodes_same(root)\n",
        "print(\"Output :\")\n",
        "print(connect_nodes(root))\n"
      ],
      "metadata": {
        "colab": {
          "base_uri": "https://localhost:8080/"
        },
        "id": "EeJW5p7pGnVh",
        "outputId": "eda1e401-3f8b-4ec6-d784-9ab714438f87"
      },
      "execution_count": 24,
      "outputs": [
        {
          "output_type": "stream",
          "name": "stdout",
          "text": [
            "Output :\n",
            "1 → -1\n",
            "2 → 3 → -1\n",
            "4 → 5 → 6 → 7 → -1\n",
            "None\n"
          ]
        }
      ]
    },
    {
      "cell_type": "code",
      "source": [],
      "metadata": {
        "id": "_LG-BCEGGyDk"
      },
      "execution_count": null,
      "outputs": []
    }
  ]
}